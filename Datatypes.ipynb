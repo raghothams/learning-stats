{
 "metadata": {
  "name": ""
 },
 "nbformat": 3,
 "nbformat_minor": 0,
 "worksheets": [
  {
   "cells": [
    {
     "cell_type": "markdown",
     "metadata": {},
     "source": [
      "# Datatypes"
     ]
    },
    {
     "cell_type": "markdown",
     "metadata": {},
     "source": [
      "### Exercises"
     ]
    },
    {
     "cell_type": "code",
     "collapsed": false,
     "input": [
      "import pandas as pd\n",
      "from matplotlib import pyplot as plt\n",
      "import numpy as np\n",
      "import seaborn as sns"
     ],
     "language": "python",
     "metadata": {},
     "outputs": [],
     "prompt_number": 1
    },
    {
     "cell_type": "code",
     "collapsed": false,
     "input": [
      "%matplotlib inline"
     ],
     "language": "python",
     "metadata": {},
     "outputs": [],
     "prompt_number": 60
    },
    {
     "cell_type": "code",
     "collapsed": false,
     "input": [
      "with open(\"../statsintro/Data/amstat/babyboom.dat.txt\") as r:\n",
      "    data = r.readlines()\n",
      "    data = map(lambda(x): x.split(), data)"
     ],
     "language": "python",
     "metadata": {},
     "outputs": [],
     "prompt_number": 41
    },
    {
     "cell_type": "code",
     "collapsed": false,
     "input": [
      "data"
     ],
     "language": "python",
     "metadata": {},
     "outputs": [
      {
       "metadata": {},
       "output_type": "pyout",
       "prompt_number": 42,
       "text": [
        "[['0005', '1', '3837', '5'],\n",
        " ['0104', '1', '3334', '64'],\n",
        " ['0118', '2', '3554', '78'],\n",
        " ['0155', '2', '3838', '115'],\n",
        " ['0257', '2', '3625', '177'],\n",
        " ['0405', '1', '2208', '245'],\n",
        " ['0407', '1', '1745', '247'],\n",
        " ['0422', '2', '2846', '262'],\n",
        " ['0431', '2', '3166', '271'],\n",
        " ['0708', '2', '3520', '428'],\n",
        " ['0735', '2', '3380', '455'],\n",
        " ['0812', '2', '3294', '492'],\n",
        " ['0814', '1', '2576', '494'],\n",
        " ['0909', '1', '3208', '549'],\n",
        " ['1035', '2', '3521', '635'],\n",
        " ['1049', '1', '3746', '649'],\n",
        " ['1053', '1', '3523', '653'],\n",
        " ['1133', '2', '2902', '693'],\n",
        " ['1209', '2', '2635', '729'],\n",
        " ['1256', '2', '3920', '776'],\n",
        " ['1305', '2', '3690', '785'],\n",
        " ['1406', '1', '3430', '846'],\n",
        " ['1407', '1', '3480', '847'],\n",
        " ['1433', '1', '3116', '873'],\n",
        " ['1446', '1', '3428', '886'],\n",
        " ['1514', '2', '3783', '914'],\n",
        " ['1631', '2', '3345', '991'],\n",
        " ['1657', '2', '3034', '1017'],\n",
        " ['1742', '1', '2184', '1062'],\n",
        " ['1807', '2', '3300', '1087'],\n",
        " ['1825', '1', '2383', '1105'],\n",
        " ['1854', '2', '3428', '1134'],\n",
        " ['1909', '2', '4162', '1149'],\n",
        " ['1947', '2', '3630', '1187'],\n",
        " ['1949', '2', '3406', '1189'],\n",
        " ['1951', '2', '3402', '1191'],\n",
        " ['2010', '1', '3500', '1210'],\n",
        " ['2037', '2', '3736', '1237'],\n",
        " ['2051', '2', '3370', '1251'],\n",
        " ['2104', '2', '2121', '1264'],\n",
        " ['2123', '2', '3150', '1283'],\n",
        " ['2217', '1', '3866', '1337'],\n",
        " ['2327', '1', '3542', '1407'],\n",
        " ['2355', '1', '3278', '1435']]"
       ]
      }
     ],
     "prompt_number": 42
    },
    {
     "cell_type": "code",
     "collapsed": false,
     "input": [
      "df = pd.DataFrame(data, columns=['time', 'sex', 'weight', 'mins_since_00'], dtype='float')"
     ],
     "language": "python",
     "metadata": {},
     "outputs": [],
     "prompt_number": 43
    },
    {
     "cell_type": "code",
     "collapsed": false,
     "input": [
      "df"
     ],
     "language": "python",
     "metadata": {},
     "outputs": [
      {
       "html": [
        "<div style=\"max-height:1000px;max-width:1500px;overflow:auto;\">\n",
        "<table border=\"1\" class=\"dataframe\">\n",
        "  <thead>\n",
        "    <tr style=\"text-align: right;\">\n",
        "      <th></th>\n",
        "      <th>time</th>\n",
        "      <th>sex</th>\n",
        "      <th>weight</th>\n",
        "      <th>mins_since_00</th>\n",
        "    </tr>\n",
        "  </thead>\n",
        "  <tbody>\n",
        "    <tr>\n",
        "      <th>0</th>\n",
        "      <td>5</td>\n",
        "      <td>1</td>\n",
        "      <td>3837</td>\n",
        "      <td>5</td>\n",
        "    </tr>\n",
        "    <tr>\n",
        "      <th>1</th>\n",
        "      <td>104</td>\n",
        "      <td>1</td>\n",
        "      <td>3334</td>\n",
        "      <td>64</td>\n",
        "    </tr>\n",
        "    <tr>\n",
        "      <th>2</th>\n",
        "      <td>118</td>\n",
        "      <td>2</td>\n",
        "      <td>3554</td>\n",
        "      <td>78</td>\n",
        "    </tr>\n",
        "    <tr>\n",
        "      <th>3</th>\n",
        "      <td>155</td>\n",
        "      <td>2</td>\n",
        "      <td>3838</td>\n",
        "      <td>115</td>\n",
        "    </tr>\n",
        "    <tr>\n",
        "      <th>4</th>\n",
        "      <td>257</td>\n",
        "      <td>2</td>\n",
        "      <td>3625</td>\n",
        "      <td>177</td>\n",
        "    </tr>\n",
        "    <tr>\n",
        "      <th>5</th>\n",
        "      <td>405</td>\n",
        "      <td>1</td>\n",
        "      <td>2208</td>\n",
        "      <td>245</td>\n",
        "    </tr>\n",
        "    <tr>\n",
        "      <th>6</th>\n",
        "      <td>407</td>\n",
        "      <td>1</td>\n",
        "      <td>1745</td>\n",
        "      <td>247</td>\n",
        "    </tr>\n",
        "    <tr>\n",
        "      <th>7</th>\n",
        "      <td>422</td>\n",
        "      <td>2</td>\n",
        "      <td>2846</td>\n",
        "      <td>262</td>\n",
        "    </tr>\n",
        "    <tr>\n",
        "      <th>8</th>\n",
        "      <td>431</td>\n",
        "      <td>2</td>\n",
        "      <td>3166</td>\n",
        "      <td>271</td>\n",
        "    </tr>\n",
        "    <tr>\n",
        "      <th>9</th>\n",
        "      <td>708</td>\n",
        "      <td>2</td>\n",
        "      <td>3520</td>\n",
        "      <td>428</td>\n",
        "    </tr>\n",
        "    <tr>\n",
        "      <th>10</th>\n",
        "      <td>735</td>\n",
        "      <td>2</td>\n",
        "      <td>3380</td>\n",
        "      <td>455</td>\n",
        "    </tr>\n",
        "    <tr>\n",
        "      <th>11</th>\n",
        "      <td>812</td>\n",
        "      <td>2</td>\n",
        "      <td>3294</td>\n",
        "      <td>492</td>\n",
        "    </tr>\n",
        "    <tr>\n",
        "      <th>12</th>\n",
        "      <td>814</td>\n",
        "      <td>1</td>\n",
        "      <td>2576</td>\n",
        "      <td>494</td>\n",
        "    </tr>\n",
        "    <tr>\n",
        "      <th>13</th>\n",
        "      <td>909</td>\n",
        "      <td>1</td>\n",
        "      <td>3208</td>\n",
        "      <td>549</td>\n",
        "    </tr>\n",
        "    <tr>\n",
        "      <th>14</th>\n",
        "      <td>1035</td>\n",
        "      <td>2</td>\n",
        "      <td>3521</td>\n",
        "      <td>635</td>\n",
        "    </tr>\n",
        "    <tr>\n",
        "      <th>15</th>\n",
        "      <td>1049</td>\n",
        "      <td>1</td>\n",
        "      <td>3746</td>\n",
        "      <td>649</td>\n",
        "    </tr>\n",
        "    <tr>\n",
        "      <th>16</th>\n",
        "      <td>1053</td>\n",
        "      <td>1</td>\n",
        "      <td>3523</td>\n",
        "      <td>653</td>\n",
        "    </tr>\n",
        "    <tr>\n",
        "      <th>17</th>\n",
        "      <td>1133</td>\n",
        "      <td>2</td>\n",
        "      <td>2902</td>\n",
        "      <td>693</td>\n",
        "    </tr>\n",
        "    <tr>\n",
        "      <th>18</th>\n",
        "      <td>1209</td>\n",
        "      <td>2</td>\n",
        "      <td>2635</td>\n",
        "      <td>729</td>\n",
        "    </tr>\n",
        "    <tr>\n",
        "      <th>19</th>\n",
        "      <td>1256</td>\n",
        "      <td>2</td>\n",
        "      <td>3920</td>\n",
        "      <td>776</td>\n",
        "    </tr>\n",
        "    <tr>\n",
        "      <th>20</th>\n",
        "      <td>1305</td>\n",
        "      <td>2</td>\n",
        "      <td>3690</td>\n",
        "      <td>785</td>\n",
        "    </tr>\n",
        "    <tr>\n",
        "      <th>21</th>\n",
        "      <td>1406</td>\n",
        "      <td>1</td>\n",
        "      <td>3430</td>\n",
        "      <td>846</td>\n",
        "    </tr>\n",
        "    <tr>\n",
        "      <th>22</th>\n",
        "      <td>1407</td>\n",
        "      <td>1</td>\n",
        "      <td>3480</td>\n",
        "      <td>847</td>\n",
        "    </tr>\n",
        "    <tr>\n",
        "      <th>23</th>\n",
        "      <td>1433</td>\n",
        "      <td>1</td>\n",
        "      <td>3116</td>\n",
        "      <td>873</td>\n",
        "    </tr>\n",
        "    <tr>\n",
        "      <th>24</th>\n",
        "      <td>1446</td>\n",
        "      <td>1</td>\n",
        "      <td>3428</td>\n",
        "      <td>886</td>\n",
        "    </tr>\n",
        "    <tr>\n",
        "      <th>25</th>\n",
        "      <td>1514</td>\n",
        "      <td>2</td>\n",
        "      <td>3783</td>\n",
        "      <td>914</td>\n",
        "    </tr>\n",
        "    <tr>\n",
        "      <th>26</th>\n",
        "      <td>1631</td>\n",
        "      <td>2</td>\n",
        "      <td>3345</td>\n",
        "      <td>991</td>\n",
        "    </tr>\n",
        "    <tr>\n",
        "      <th>27</th>\n",
        "      <td>1657</td>\n",
        "      <td>2</td>\n",
        "      <td>3034</td>\n",
        "      <td>1017</td>\n",
        "    </tr>\n",
        "    <tr>\n",
        "      <th>28</th>\n",
        "      <td>1742</td>\n",
        "      <td>1</td>\n",
        "      <td>2184</td>\n",
        "      <td>1062</td>\n",
        "    </tr>\n",
        "    <tr>\n",
        "      <th>29</th>\n",
        "      <td>1807</td>\n",
        "      <td>2</td>\n",
        "      <td>3300</td>\n",
        "      <td>1087</td>\n",
        "    </tr>\n",
        "    <tr>\n",
        "      <th>30</th>\n",
        "      <td>1825</td>\n",
        "      <td>1</td>\n",
        "      <td>2383</td>\n",
        "      <td>1105</td>\n",
        "    </tr>\n",
        "    <tr>\n",
        "      <th>31</th>\n",
        "      <td>1854</td>\n",
        "      <td>2</td>\n",
        "      <td>3428</td>\n",
        "      <td>1134</td>\n",
        "    </tr>\n",
        "    <tr>\n",
        "      <th>32</th>\n",
        "      <td>1909</td>\n",
        "      <td>2</td>\n",
        "      <td>4162</td>\n",
        "      <td>1149</td>\n",
        "    </tr>\n",
        "    <tr>\n",
        "      <th>33</th>\n",
        "      <td>1947</td>\n",
        "      <td>2</td>\n",
        "      <td>3630</td>\n",
        "      <td>1187</td>\n",
        "    </tr>\n",
        "    <tr>\n",
        "      <th>34</th>\n",
        "      <td>1949</td>\n",
        "      <td>2</td>\n",
        "      <td>3406</td>\n",
        "      <td>1189</td>\n",
        "    </tr>\n",
        "    <tr>\n",
        "      <th>35</th>\n",
        "      <td>1951</td>\n",
        "      <td>2</td>\n",
        "      <td>3402</td>\n",
        "      <td>1191</td>\n",
        "    </tr>\n",
        "    <tr>\n",
        "      <th>36</th>\n",
        "      <td>2010</td>\n",
        "      <td>1</td>\n",
        "      <td>3500</td>\n",
        "      <td>1210</td>\n",
        "    </tr>\n",
        "    <tr>\n",
        "      <th>37</th>\n",
        "      <td>2037</td>\n",
        "      <td>2</td>\n",
        "      <td>3736</td>\n",
        "      <td>1237</td>\n",
        "    </tr>\n",
        "    <tr>\n",
        "      <th>38</th>\n",
        "      <td>2051</td>\n",
        "      <td>2</td>\n",
        "      <td>3370</td>\n",
        "      <td>1251</td>\n",
        "    </tr>\n",
        "    <tr>\n",
        "      <th>39</th>\n",
        "      <td>2104</td>\n",
        "      <td>2</td>\n",
        "      <td>2121</td>\n",
        "      <td>1264</td>\n",
        "    </tr>\n",
        "    <tr>\n",
        "      <th>40</th>\n",
        "      <td>2123</td>\n",
        "      <td>2</td>\n",
        "      <td>3150</td>\n",
        "      <td>1283</td>\n",
        "    </tr>\n",
        "    <tr>\n",
        "      <th>41</th>\n",
        "      <td>2217</td>\n",
        "      <td>1</td>\n",
        "      <td>3866</td>\n",
        "      <td>1337</td>\n",
        "    </tr>\n",
        "    <tr>\n",
        "      <th>42</th>\n",
        "      <td>2327</td>\n",
        "      <td>1</td>\n",
        "      <td>3542</td>\n",
        "      <td>1407</td>\n",
        "    </tr>\n",
        "    <tr>\n",
        "      <th>43</th>\n",
        "      <td>2355</td>\n",
        "      <td>1</td>\n",
        "      <td>3278</td>\n",
        "      <td>1435</td>\n",
        "    </tr>\n",
        "  </tbody>\n",
        "</table>\n",
        "</div>"
       ],
       "metadata": {},
       "output_type": "pyout",
       "prompt_number": 44,
       "text": [
        "    time  sex  weight  mins_since_00\n",
        "0      5    1    3837              5\n",
        "1    104    1    3334             64\n",
        "2    118    2    3554             78\n",
        "3    155    2    3838            115\n",
        "4    257    2    3625            177\n",
        "5    405    1    2208            245\n",
        "6    407    1    1745            247\n",
        "7    422    2    2846            262\n",
        "8    431    2    3166            271\n",
        "9    708    2    3520            428\n",
        "10   735    2    3380            455\n",
        "11   812    2    3294            492\n",
        "12   814    1    2576            494\n",
        "13   909    1    3208            549\n",
        "14  1035    2    3521            635\n",
        "15  1049    1    3746            649\n",
        "16  1053    1    3523            653\n",
        "17  1133    2    2902            693\n",
        "18  1209    2    2635            729\n",
        "19  1256    2    3920            776\n",
        "20  1305    2    3690            785\n",
        "21  1406    1    3430            846\n",
        "22  1407    1    3480            847\n",
        "23  1433    1    3116            873\n",
        "24  1446    1    3428            886\n",
        "25  1514    2    3783            914\n",
        "26  1631    2    3345            991\n",
        "27  1657    2    3034           1017\n",
        "28  1742    1    2184           1062\n",
        "29  1807    2    3300           1087\n",
        "30  1825    1    2383           1105\n",
        "31  1854    2    3428           1134\n",
        "32  1909    2    4162           1149\n",
        "33  1947    2    3630           1187\n",
        "34  1949    2    3406           1189\n",
        "35  1951    2    3402           1191\n",
        "36  2010    1    3500           1210\n",
        "37  2037    2    3736           1237\n",
        "38  2051    2    3370           1251\n",
        "39  2104    2    2121           1264\n",
        "40  2123    2    3150           1283\n",
        "41  2217    1    3866           1337\n",
        "42  2327    1    3542           1407\n",
        "43  2355    1    3278           1435"
       ]
      }
     ],
     "prompt_number": 44
    },
    {
     "cell_type": "code",
     "collapsed": false,
     "input": [
      "df.dtypes"
     ],
     "language": "python",
     "metadata": {},
     "outputs": [
      {
       "metadata": {},
       "output_type": "pyout",
       "prompt_number": 45,
       "text": [
        "time             float64\n",
        "sex              float64\n",
        "weight           float64\n",
        "mins_since_00    float64\n",
        "dtype: object"
       ]
      }
     ],
     "prompt_number": 45
    },
    {
     "cell_type": "code",
     "collapsed": false,
     "input": [
      "df.min()"
     ],
     "language": "python",
     "metadata": {},
     "outputs": [
      {
       "metadata": {},
       "output_type": "pyout",
       "prompt_number": 46,
       "text": [
        "time                5\n",
        "sex                 1\n",
        "weight           1745\n",
        "mins_since_00       5\n",
        "dtype: float64"
       ]
      }
     ],
     "prompt_number": 46
    },
    {
     "cell_type": "code",
     "collapsed": false,
     "input": [
      "df.max()"
     ],
     "language": "python",
     "metadata": {},
     "outputs": [
      {
       "metadata": {},
       "output_type": "pyout",
       "prompt_number": 47,
       "text": [
        "time             2355\n",
        "sex                 2\n",
        "weight           4162\n",
        "mins_since_00    1435\n",
        "dtype: float64"
       ]
      }
     ],
     "prompt_number": 47
    },
    {
     "cell_type": "code",
     "collapsed": false,
     "input": [
      "plt.plot(np.array(df.mins_since_00), np.array(df.weight))"
     ],
     "language": "python",
     "metadata": {},
     "outputs": [
      {
       "metadata": {},
       "output_type": "pyout",
       "prompt_number": 62,
       "text": [
        "[<matplotlib.lines.Line2D at 0x7f3cdb177690>]"
       ]
      },
      {
       "metadata": {},
       "output_type": "display_data",
       "png": "[encoded data removed]",
       "text": [
        "<matplotlib.figure.Figure at 0x7f3cb98e0750>"
       ]
      }
     ],
     "prompt_number": 62
    },
    {
     "cell_type": "code",
     "collapsed": false,
     "input": [
      "grouped = df.groupby(df.sex)"
     ],
     "language": "python",
     "metadata": {},
     "outputs": [],
     "prompt_number": 12
    },
    {
     "cell_type": "code",
     "collapsed": false,
     "input": [
      "mean_weights = grouped.mean().weight"
     ],
     "language": "python",
     "metadata": {},
     "outputs": [],
     "prompt_number": 13
    },
    {
     "cell_type": "code",
     "collapsed": false,
     "input": [
      "mean_weights = mean_weights.reset_index()"
     ],
     "language": "python",
     "metadata": {},
     "outputs": [],
     "prompt_number": 14
    },
    {
     "cell_type": "code",
     "collapsed": false,
     "input": [
      "mean_weights"
     ],
     "language": "python",
     "metadata": {},
     "outputs": [
      {
       "html": [
        "<div style=\"max-height:1000px;max-width:1500px;overflow:auto;\">\n",
        "<table border=\"1\" class=\"dataframe\">\n",
        "  <thead>\n",
        "    <tr style=\"text-align: right;\">\n",
        "      <th></th>\n",
        "      <th>sex</th>\n",
        "      <th>weight</th>\n",
        "    </tr>\n",
        "  </thead>\n",
        "  <tbody>\n",
        "    <tr>\n",
        "      <th>0</th>\n",
        "      <td>1</td>\n",
        "      <td>3132.444444</td>\n",
        "    </tr>\n",
        "    <tr>\n",
        "      <th>1</th>\n",
        "      <td>2</td>\n",
        "      <td>3375.307692</td>\n",
        "    </tr>\n",
        "  </tbody>\n",
        "</table>\n",
        "</div>"
       ],
       "metadata": {},
       "output_type": "pyout",
       "prompt_number": 15,
       "text": [
        "   sex       weight\n",
        "0    1  3132.444444\n",
        "1    2  3375.307692"
       ]
      }
     ],
     "prompt_number": 15
    },
    {
     "cell_type": "code",
     "collapsed": false,
     "input": [
      "plt.hist2d(mean_weights.sex, mean_weights.weight, bins=2)"
     ],
     "language": "python",
     "metadata": {},
     "outputs": [
      {
       "metadata": {},
       "output_type": "pyout",
       "prompt_number": 63,
       "text": [
        "(array([[ 1.,  0.],\n",
        "       [ 0.,  1.]]),\n",
        " array([ 1. ,  1.5,  2. ]),\n",
        " array([ 3132.44444444,  3253.87606838,  3375.30769231]),\n",
        " <matplotlib.image.AxesImage at 0x7f3cdb28df90>)"
       ]
      },
      {
       "metadata": {},
       "output_type": "display_data",
       "png": "[encoded data removed]",
       "text": [
        "<matplotlib.figure.Figure at 0x7f3cdb1517d0>"
       ]
      }
     ],
     "prompt_number": 63
    },
    {
     "cell_type": "code",
     "collapsed": false,
     "input": [
      "sns.barplot(mean_weights.sex, mean_weights.weight, palette=sns.dark_palette('blue'))"
     ],
     "language": "python",
     "metadata": {},
     "outputs": [
      {
       "metadata": {},
       "output_type": "pyout",
       "prompt_number": 64,
       "text": [
        "<matplotlib.axes._subplots.AxesSubplot at 0x7f3cb9b1e150>"
       ]
      },
      {
       "metadata": {},
       "output_type": "display_data",
       "png": "[encoded data removed]",
       "text": [
        "<matplotlib.figure.Figure at 0x7f3cb99c4210>"
       ]
      }
     ],
     "prompt_number": 64
    },
    {
     "cell_type": "code",
     "collapsed": false,
     "input": [
      "plt.interactive(True)\n",
      "plt.hist(df.weight)\n"
     ],
     "language": "python",
     "metadata": {},
     "outputs": [
      {
       "metadata": {},
       "output_type": "pyout",
       "prompt_number": 65,
       "text": [
        "(array([  1.,   3.,   1.,   2.,   2.,   4.,  13.,   9.,   8.,   1.]),\n",
        " array([ 1745. ,  1986.7,  2228.4,  2470.1,  2711.8,  2953.5,  3195.2,\n",
        "        3436.9,  3678.6,  3920.3,  4162. ]),\n",
        " <a list of 10 Patch objects>)"
       ]
      },
      {
       "metadata": {},
       "output_type": "display_data",
       "png": "[encoded data removed]",
       "text": [
        "<matplotlib.figure.Figure at 0x7f3cdb631ed0>"
       ]
      }
     ],
     "prompt_number": 65
    },
    {
     "cell_type": "code",
     "collapsed": false,
     "input": [
      "sns.kdeplot(df.weight)"
     ],
     "language": "python",
     "metadata": {},
     "outputs": [
      {
       "metadata": {},
       "output_type": "pyout",
       "prompt_number": 66,
       "text": [
        "<matplotlib.axes._subplots.AxesSubplot at 0x7f3cb96c4c10>"
       ]
      },
      {
       "metadata": {},
       "output_type": "display_data",
       "png": "[encoded data removed]",
       "text": [
        "<matplotlib.figure.Figure at 0x7f3cb96dfd10>"
       ]
      }
     ],
     "prompt_number": 66
    },
    {
     "cell_type": "markdown",
     "metadata": {},
     "source": [
      "Not normally disrtibuted"
     ]
    },
    {
     "cell_type": "code",
     "collapsed": false,
     "input": [],
     "language": "python",
     "metadata": {},
     "outputs": []
    }
   ],
   "metadata": {}
  }
 ]
}