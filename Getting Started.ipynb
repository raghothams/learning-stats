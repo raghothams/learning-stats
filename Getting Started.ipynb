{
 "metadata": {
  "name": ""
 },
 "nbformat": 3,
 "nbformat_minor": 0,
 "worksheets": [
  {
   "cells": [
    {
     "cell_type": "markdown",
     "metadata": {},
     "source": [
      "# Getting Started - Introduction to Statistics"
     ]
    },
    {
     "cell_type": "code",
     "collapsed": false,
     "input": [
      "import pandas as pd\n",
      "import xlrd\n",
      "import numpy as np"
     ],
     "language": "python",
     "metadata": {},
     "outputs": [],
     "prompt_number": 21
    },
    {
     "cell_type": "markdown",
     "metadata": {},
     "source": [
      "### Read CSV file"
     ]
    },
    {
     "cell_type": "code",
     "collapsed": false,
     "input": [
      "swim_df = pd.read_csv(\"../statsintro/Data/data_kaplan/swim100m.csv\")\n"
     ],
     "language": "python",
     "metadata": {},
     "outputs": [],
     "prompt_number": 2
    },
    {
     "cell_type": "code",
     "collapsed": false,
     "input": [
      "swim_df.head()"
     ],
     "language": "python",
     "metadata": {},
     "outputs": [
      {
       "html": [
        "<div style=\"max-height:1000px;max-width:1500px;overflow:auto;\">\n",
        "<table border=\"1\" class=\"dataframe\">\n",
        "  <thead>\n",
        "    <tr style=\"text-align: right;\">\n",
        "      <th></th>\n",
        "      <th>year</th>\n",
        "      <th>time</th>\n",
        "      <th>sex</th>\n",
        "    </tr>\n",
        "  </thead>\n",
        "  <tbody>\n",
        "    <tr>\n",
        "      <th>0</th>\n",
        "      <td>1905</td>\n",
        "      <td>65.8</td>\n",
        "      <td>M</td>\n",
        "    </tr>\n",
        "    <tr>\n",
        "      <th>1</th>\n",
        "      <td>1908</td>\n",
        "      <td>65.6</td>\n",
        "      <td>M</td>\n",
        "    </tr>\n",
        "    <tr>\n",
        "      <th>2</th>\n",
        "      <td>1910</td>\n",
        "      <td>62.8</td>\n",
        "      <td>M</td>\n",
        "    </tr>\n",
        "    <tr>\n",
        "      <th>3</th>\n",
        "      <td>1912</td>\n",
        "      <td>61.6</td>\n",
        "      <td>M</td>\n",
        "    </tr>\n",
        "    <tr>\n",
        "      <th>4</th>\n",
        "      <td>1918</td>\n",
        "      <td>61.4</td>\n",
        "      <td>M</td>\n",
        "    </tr>\n",
        "  </tbody>\n",
        "</table>\n",
        "</div>"
       ],
       "metadata": {},
       "output_type": "pyout",
       "prompt_number": 3,
       "text": [
        "   year  time sex\n",
        "0  1905  65.8   M\n",
        "1  1908  65.6   M\n",
        "2  1910  62.8   M\n",
        "3  1912  61.6   M\n",
        "4  1918  61.4   M"
       ]
      }
     ],
     "prompt_number": 3
    },
    {
     "cell_type": "code",
     "collapsed": false,
     "input": [
      "swim_df.tail()"
     ],
     "language": "python",
     "metadata": {},
     "outputs": [
      {
       "html": [
        "<div style=\"max-height:1000px;max-width:1500px;overflow:auto;\">\n",
        "<table border=\"1\" class=\"dataframe\">\n",
        "  <thead>\n",
        "    <tr style=\"text-align: right;\">\n",
        "      <th></th>\n",
        "      <th>year</th>\n",
        "      <th>time</th>\n",
        "      <th>sex</th>\n",
        "    </tr>\n",
        "  </thead>\n",
        "  <tbody>\n",
        "    <tr>\n",
        "      <th>57</th>\n",
        "      <td>1986</td>\n",
        "      <td>54.73</td>\n",
        "      <td>F</td>\n",
        "    </tr>\n",
        "    <tr>\n",
        "      <th>58</th>\n",
        "      <td>1992</td>\n",
        "      <td>54.48</td>\n",
        "      <td>F</td>\n",
        "    </tr>\n",
        "    <tr>\n",
        "      <th>59</th>\n",
        "      <td>1994</td>\n",
        "      <td>54.01</td>\n",
        "      <td>F</td>\n",
        "    </tr>\n",
        "    <tr>\n",
        "      <th>60</th>\n",
        "      <td>2000</td>\n",
        "      <td>53.77</td>\n",
        "      <td>F</td>\n",
        "    </tr>\n",
        "    <tr>\n",
        "      <th>61</th>\n",
        "      <td>2004</td>\n",
        "      <td>53.52</td>\n",
        "      <td>F</td>\n",
        "    </tr>\n",
        "  </tbody>\n",
        "</table>\n",
        "</div>"
       ],
       "metadata": {},
       "output_type": "pyout",
       "prompt_number": 4,
       "text": [
        "    year   time sex\n",
        "57  1986  54.73   F\n",
        "58  1992  54.48   F\n",
        "59  1994  54.01   F\n",
        "60  2000  53.77   F\n",
        "61  2004  53.52   F"
       ]
      }
     ],
     "prompt_number": 4
    },
    {
     "cell_type": "markdown",
     "metadata": {},
     "source": [
      "### Read excel file"
     ]
    },
    {
     "cell_type": "code",
     "collapsed": false,
     "input": [
      "xls_df = pd.read_excel(\"../statsintro/Data/data_others/Table 6.6 Plant experiment.xls\")"
     ],
     "language": "python",
     "metadata": {},
     "outputs": [],
     "prompt_number": 7
    },
    {
     "cell_type": "code",
     "collapsed": false,
     "input": [
      "xls_df.head()"
     ],
     "language": "python",
     "metadata": {},
     "outputs": [
      {
       "html": [
        "<div style=\"max-height:1000px;max-width:1500px;overflow:auto;\">\n",
        "<table border=\"1\" class=\"dataframe\">\n",
        "  <thead>\n",
        "    <tr style=\"text-align: right;\">\n",
        "      <th></th>\n",
        "      <th>Table 6.6 Plant experiment</th>\n",
        "      <th>Unnamed: 1</th>\n",
        "      <th>Unnamed: 2</th>\n",
        "      <th>Unnamed: 3</th>\n",
        "      <th>Unnamed: 4</th>\n",
        "      <th>Unnamed: 5</th>\n",
        "    </tr>\n",
        "  </thead>\n",
        "  <tbody>\n",
        "    <tr>\n",
        "      <th>0</th>\n",
        "      <td>NaN</td>\n",
        "      <td>NaN</td>\n",
        "      <td>NaN</td>\n",
        "      <td>NaN</td>\n",
        "      <td>NaN</td>\n",
        "      <td>NaN</td>\n",
        "    </tr>\n",
        "    <tr>\n",
        "      <th>1</th>\n",
        "      <td>control</td>\n",
        "      <td>treatmentA</td>\n",
        "      <td>treatmentB</td>\n",
        "      <td>NaN</td>\n",
        "      <td>group</td>\n",
        "      <td>weight</td>\n",
        "    </tr>\n",
        "    <tr>\n",
        "      <th>2</th>\n",
        "      <td>4.17</td>\n",
        "      <td>4.81</td>\n",
        "      <td>6.31</td>\n",
        "      <td>NaN</td>\n",
        "      <td>Control</td>\n",
        "      <td>4.17</td>\n",
        "    </tr>\n",
        "    <tr>\n",
        "      <th>3</th>\n",
        "      <td>5.58</td>\n",
        "      <td>4.17</td>\n",
        "      <td>5.12</td>\n",
        "      <td>NaN</td>\n",
        "      <td>Control</td>\n",
        "      <td>5.58</td>\n",
        "    </tr>\n",
        "    <tr>\n",
        "      <th>4</th>\n",
        "      <td>5.18</td>\n",
        "      <td>4.41</td>\n",
        "      <td>5.54</td>\n",
        "      <td>NaN</td>\n",
        "      <td>Control</td>\n",
        "      <td>5.18</td>\n",
        "    </tr>\n",
        "  </tbody>\n",
        "</table>\n",
        "</div>"
       ],
       "metadata": {},
       "output_type": "pyout",
       "prompt_number": 8,
       "text": [
        "  Table 6.6 Plant experiment  Unnamed: 1  Unnamed: 2  Unnamed: 3 Unnamed: 4  \\\n",
        "0                        NaN         NaN         NaN         NaN        NaN   \n",
        "1                    control  treatmentA  treatmentB         NaN      group   \n",
        "2                       4.17        4.81        6.31         NaN    Control   \n",
        "3                       5.58        4.17        5.12         NaN    Control   \n",
        "4                       5.18        4.41        5.54         NaN    Control   \n",
        "\n",
        "  Unnamed: 5  \n",
        "0        NaN  \n",
        "1     weight  \n",
        "2       4.17  \n",
        "3       5.58  \n",
        "4       5.18  "
       ]
      }
     ],
     "prompt_number": 8
    },
    {
     "cell_type": "code",
     "collapsed": false,
     "input": [
      "xls_df.tail()"
     ],
     "language": "python",
     "metadata": {},
     "outputs": [
      {
       "html": [
        "<div style=\"max-height:1000px;max-width:1500px;overflow:auto;\">\n",
        "<table border=\"1\" class=\"dataframe\">\n",
        "  <thead>\n",
        "    <tr style=\"text-align: right;\">\n",
        "      <th></th>\n",
        "      <th>Table 6.6 Plant experiment</th>\n",
        "      <th>Unnamed: 1</th>\n",
        "      <th>Unnamed: 2</th>\n",
        "      <th>Unnamed: 3</th>\n",
        "      <th>Unnamed: 4</th>\n",
        "      <th>Unnamed: 5</th>\n",
        "    </tr>\n",
        "  </thead>\n",
        "  <tbody>\n",
        "    <tr>\n",
        "      <th>27</th>\n",
        "      <td>NaN</td>\n",
        "      <td>NaN</td>\n",
        "      <td>NaN</td>\n",
        "      <td>NaN</td>\n",
        "      <td>TreatmentB</td>\n",
        "      <td>5.29</td>\n",
        "    </tr>\n",
        "    <tr>\n",
        "      <th>28</th>\n",
        "      <td>NaN</td>\n",
        "      <td>NaN</td>\n",
        "      <td>NaN</td>\n",
        "      <td>NaN</td>\n",
        "      <td>TreatmentB</td>\n",
        "      <td>4.92</td>\n",
        "    </tr>\n",
        "    <tr>\n",
        "      <th>29</th>\n",
        "      <td>NaN</td>\n",
        "      <td>NaN</td>\n",
        "      <td>NaN</td>\n",
        "      <td>NaN</td>\n",
        "      <td>TreatmentB</td>\n",
        "      <td>6.15</td>\n",
        "    </tr>\n",
        "    <tr>\n",
        "      <th>30</th>\n",
        "      <td>NaN</td>\n",
        "      <td>NaN</td>\n",
        "      <td>NaN</td>\n",
        "      <td>NaN</td>\n",
        "      <td>TreatmentB</td>\n",
        "      <td>5.8</td>\n",
        "    </tr>\n",
        "    <tr>\n",
        "      <th>31</th>\n",
        "      <td>NaN</td>\n",
        "      <td>NaN</td>\n",
        "      <td>NaN</td>\n",
        "      <td>NaN</td>\n",
        "      <td>TreatmentB</td>\n",
        "      <td>5.26</td>\n",
        "    </tr>\n",
        "  </tbody>\n",
        "</table>\n",
        "</div>"
       ],
       "metadata": {},
       "output_type": "pyout",
       "prompt_number": 9,
       "text": [
        "   Table 6.6 Plant experiment Unnamed: 1 Unnamed: 2  Unnamed: 3  Unnamed: 4  \\\n",
        "27                        NaN        NaN        NaN         NaN  TreatmentB   \n",
        "28                        NaN        NaN        NaN         NaN  TreatmentB   \n",
        "29                        NaN        NaN        NaN         NaN  TreatmentB   \n",
        "30                        NaN        NaN        NaN         NaN  TreatmentB   \n",
        "31                        NaN        NaN        NaN         NaN  TreatmentB   \n",
        "\n",
        "   Unnamed: 5  \n",
        "27       5.29  \n",
        "28       4.92  \n",
        "29       6.15  \n",
        "30        5.8  \n",
        "31       5.26  "
       ]
      }
     ],
     "prompt_number": 9
    },
    {
     "cell_type": "code",
     "collapsed": false,
     "input": [
      "xls_df.shape"
     ],
     "language": "python",
     "metadata": {},
     "outputs": [
      {
       "metadata": {},
       "output_type": "pyout",
       "prompt_number": 10,
       "text": [
        "(32, 6)"
       ]
      }
     ],
     "prompt_number": 10
    },
    {
     "cell_type": "markdown",
     "metadata": {},
     "source": [
      "### Run readZip.py"
     ]
    },
    {
     "cell_type": "code",
     "collapsed": false,
     "input": [
      "!python ../statsintro/Code3/readZip.py"
     ],
     "language": "python",
     "metadata": {},
     "outputs": [
      {
       "output_type": "stream",
       "stream": "stdout",
       "text": [
        "    man  before  after\r\n",
        "0     1   100.8   97.0\r\n",
        "1     2   102.0  107.5\r\n",
        "2     3   105.9   97.0\r\n",
        "3     4   108.0  108.0\r\n",
        "4     5    92.0   84.0\r\n",
        "5     6   116.7  111.5\r\n",
        "6     7   110.2  102.5\r\n",
        "7     8   135.0  127.5\r\n",
        "8     9   123.5  118.5\r\n",
        "9    10    95.0   94.2\r\n",
        "10   11   105.0  105.0\r\n",
        "11   12    85.0   82.4\r\n",
        "12   13   107.2   98.2\r\n",
        "13   14    80.0   83.6\r\n",
        "14   15   115.1  115.0\r\n",
        "15   16   103.5  103.0\r\n",
        "16   17    82.0   80.0\r\n",
        "17   18   101.5  101.5\r\n",
        "18   19   103.5  102.6\r\n",
        "19   20    93.0   93.0\r\n",
        "All done!"
       ]
      },
      {
       "output_type": "stream",
       "stream": "stdout",
       "text": [
        "^CTraceback (most recent call last):\r\n",
        "  File \"../statsintro/Code3/readZip.py\", line 39, in <module>\r\n",
        "    input('All done!')\r\n",
        "KeyboardInterrupt\r\n",
        "\r\n"
       ]
      }
     ],
     "prompt_number": 20
    },
    {
     "cell_type": "markdown",
     "metadata": {},
     "source": [
      "### Generate data"
     ]
    },
    {
     "cell_type": "code",
     "collapsed": false,
     "input": [
      "d = np.arange(0, 10, 0.1)"
     ],
     "language": "python",
     "metadata": {},
     "outputs": [],
     "prompt_number": 22
    },
    {
     "cell_type": "code",
     "collapsed": false,
     "input": [
      "d"
     ],
     "language": "python",
     "metadata": {},
     "outputs": [
      {
       "metadata": {},
       "output_type": "pyout",
       "prompt_number": 23,
       "text": [
        "array([ 0. ,  0.1,  0.2,  0.3,  0.4,  0.5,  0.6,  0.7,  0.8,  0.9,  1. ,\n",
        "        1.1,  1.2,  1.3,  1.4,  1.5,  1.6,  1.7,  1.8,  1.9,  2. ,  2.1,\n",
        "        2.2,  2.3,  2.4,  2.5,  2.6,  2.7,  2.8,  2.9,  3. ,  3.1,  3.2,\n",
        "        3.3,  3.4,  3.5,  3.6,  3.7,  3.8,  3.9,  4. ,  4.1,  4.2,  4.3,\n",
        "        4.4,  4.5,  4.6,  4.7,  4.8,  4.9,  5. ,  5.1,  5.2,  5.3,  5.4,\n",
        "        5.5,  5.6,  5.7,  5.8,  5.9,  6. ,  6.1,  6.2,  6.3,  6.4,  6.5,\n",
        "        6.6,  6.7,  6.8,  6.9,  7. ,  7.1,  7.2,  7.3,  7.4,  7.5,  7.6,\n",
        "        7.7,  7.8,  7.9,  8. ,  8.1,  8.2,  8.3,  8.4,  8.5,  8.6,  8.7,\n",
        "        8.8,  8.9,  9. ,  9.1,  9.2,  9.3,  9.4,  9.5,  9.6,  9.7,  9.8,\n",
        "        9.9])"
       ]
      }
     ],
     "prompt_number": 23
    },
    {
     "cell_type": "code",
     "collapsed": false,
     "input": [
      "y = np.sin(d)"
     ],
     "language": "python",
     "metadata": {},
     "outputs": [],
     "prompt_number": 24
    },
    {
     "cell_type": "code",
     "collapsed": false,
     "input": [
      "y"
     ],
     "language": "python",
     "metadata": {},
     "outputs": [
      {
       "metadata": {},
       "output_type": "pyout",
       "prompt_number": 25,
       "text": [
        "array([ 0.        ,  0.09983342,  0.19866933,  0.29552021,  0.38941834,\n",
        "        0.47942554,  0.56464247,  0.64421769,  0.71735609,  0.78332691,\n",
        "        0.84147098,  0.89120736,  0.93203909,  0.96355819,  0.98544973,\n",
        "        0.99749499,  0.9995736 ,  0.99166481,  0.97384763,  0.94630009,\n",
        "        0.90929743,  0.86320937,  0.8084964 ,  0.74570521,  0.67546318,\n",
        "        0.59847214,  0.51550137,  0.42737988,  0.33498815,  0.23924933,\n",
        "        0.14112001,  0.04158066, -0.05837414, -0.15774569, -0.2555411 ,\n",
        "       -0.35078323, -0.44252044, -0.52983614, -0.61185789, -0.68776616,\n",
        "       -0.7568025 , -0.81827711, -0.87157577, -0.91616594, -0.95160207,\n",
        "       -0.97753012, -0.993691  , -0.99992326, -0.99616461, -0.98245261,\n",
        "       -0.95892427, -0.92581468, -0.88345466, -0.83226744, -0.77276449,\n",
        "       -0.70554033, -0.63126664, -0.55068554, -0.46460218, -0.37387666,\n",
        "       -0.2794155 , -0.1821625 , -0.0830894 ,  0.0168139 ,  0.1165492 ,\n",
        "        0.21511999,  0.31154136,  0.40484992,  0.49411335,  0.57843976,\n",
        "        0.6569866 ,  0.72896904,  0.79366786,  0.85043662,  0.8987081 ,\n",
        "        0.93799998,  0.96791967,  0.98816823,  0.99854335,  0.99894134,\n",
        "        0.98935825,  0.96988981,  0.94073056,  0.90217183,  0.85459891,\n",
        "        0.79848711,  0.7343971 ,  0.66296923,  0.58491719,  0.50102086,\n",
        "        0.41211849,  0.31909836,  0.22288991,  0.12445442,  0.02477543,\n",
        "       -0.07515112, -0.17432678, -0.27176063, -0.36647913, -0.45753589])"
       ]
      }
     ],
     "prompt_number": 25
    },
    {
     "cell_type": "code",
     "collapsed": false,
     "input": [
      "z = np.cos(d)"
     ],
     "language": "python",
     "metadata": {},
     "outputs": [],
     "prompt_number": 26
    },
    {
     "cell_type": "code",
     "collapsed": false,
     "input": [
      "df = pd.DataFrame({'XVals':d, 'YVals':y, 'ZVals':z})"
     ],
     "language": "python",
     "metadata": {},
     "outputs": [],
     "prompt_number": 27
    },
    {
     "cell_type": "code",
     "collapsed": false,
     "input": [
      "df.head()"
     ],
     "language": "python",
     "metadata": {},
     "outputs": [
      {
       "html": [
        "<div style=\"max-height:1000px;max-width:1500px;overflow:auto;\">\n",
        "<table border=\"1\" class=\"dataframe\">\n",
        "  <thead>\n",
        "    <tr style=\"text-align: right;\">\n",
        "      <th></th>\n",
        "      <th>XVals</th>\n",
        "      <th>YVals</th>\n",
        "      <th>ZVals</th>\n",
        "    </tr>\n",
        "  </thead>\n",
        "  <tbody>\n",
        "    <tr>\n",
        "      <th>0</th>\n",
        "      <td>0.0</td>\n",
        "      <td>0.000000</td>\n",
        "      <td>1.000000</td>\n",
        "    </tr>\n",
        "    <tr>\n",
        "      <th>1</th>\n",
        "      <td>0.1</td>\n",
        "      <td>0.099833</td>\n",
        "      <td>0.995004</td>\n",
        "    </tr>\n",
        "    <tr>\n",
        "      <th>2</th>\n",
        "      <td>0.2</td>\n",
        "      <td>0.198669</td>\n",
        "      <td>0.980067</td>\n",
        "    </tr>\n",
        "    <tr>\n",
        "      <th>3</th>\n",
        "      <td>0.3</td>\n",
        "      <td>0.295520</td>\n",
        "      <td>0.955336</td>\n",
        "    </tr>\n",
        "    <tr>\n",
        "      <th>4</th>\n",
        "      <td>0.4</td>\n",
        "      <td>0.389418</td>\n",
        "      <td>0.921061</td>\n",
        "    </tr>\n",
        "  </tbody>\n",
        "</table>\n",
        "</div>"
       ],
       "metadata": {},
       "output_type": "pyout",
       "prompt_number": 28,
       "text": [
        "   XVals     YVals     ZVals\n",
        "0    0.0  0.000000  1.000000\n",
        "1    0.1  0.099833  0.995004\n",
        "2    0.2  0.198669  0.980067\n",
        "3    0.3  0.295520  0.955336\n",
        "4    0.4  0.389418  0.921061"
       ]
      }
     ],
     "prompt_number": 28
    },
    {
     "cell_type": "code",
     "collapsed": false,
     "input": [
      "df.shape"
     ],
     "language": "python",
     "metadata": {},
     "outputs": [
      {
       "metadata": {},
       "output_type": "pyout",
       "prompt_number": 29,
       "text": [
        "(100, 3)"
       ]
      }
     ],
     "prompt_number": 29
    },
    {
     "cell_type": "code",
     "collapsed": false,
     "input": [
      "df.ix[10:15, 1:3].to_csv(\"out.txt\")"
     ],
     "language": "python",
     "metadata": {},
     "outputs": [],
     "prompt_number": 38
    },
    {
     "cell_type": "code",
     "collapsed": false,
     "input": [
      "!cat out.txt"
     ],
     "language": "python",
     "metadata": {},
     "outputs": [
      {
       "output_type": "stream",
       "stream": "stdout",
       "text": [
        ",YVals,ZVals\r\n",
        "10,0.8414709848078965,0.5403023058681398\r\n",
        "11,0.8912073600614354,0.4535961214255773\r\n",
        "12,0.9320390859672264,0.3623577544766734\r\n",
        "13,0.963558185417193,0.26749882862458735\r\n",
        "14,0.9854497299884603,0.16996714290024081\r\n",
        "15,0.9974949866040544,0.0707372016677029\r\n"
       ]
      }
     ],
     "prompt_number": 39
    },
    {
     "cell_type": "code",
     "collapsed": false,
     "input": [],
     "language": "python",
     "metadata": {},
     "outputs": []
    }
   ],
   "metadata": {}
  }
 ]
}